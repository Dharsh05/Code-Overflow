{
  "nbformat": 4,
  "nbformat_minor": 0,
  "metadata": {
    "colab": {
      "name": "Workshop2.ipynb",
      "provenance": [],
      "collapsed_sections": [],
      "include_colab_link": true
    },
    "kernelspec": {
      "name": "python3",
      "display_name": "Python 3"
    }
  },
  "cells": [
    {
      "cell_type": "markdown",
      "metadata": {
        "id": "view-in-github",
        "colab_type": "text"
      },
      "source": [
        "<a href=\"https://colab.research.google.com/github/Dharsh05/Code-Overflow/blob/main/Workshop2.ipynb\" target=\"_parent\"><img src=\"https://colab.research.google.com/assets/colab-badge.svg\" alt=\"Open In Colab\"/></a>"
      ]
    },
    {
      "cell_type": "markdown",
      "metadata": {
        "id": "Xz4tbnGAVVmM"
      },
      "source": [
        "<img src=\"https://raw.githubusercontent.com/hwhitt/DSGT-Workshop-Content/master/images/logo.png\" width=\"100\"/>  \n",
        "# DSGT Hacklytics 2021: Introduction to Machine Learning \n",
        "\n",
        "## Learning Objectives  \n",
        "1)  Learn three Ways to Conceptualize Models and Data  \n",
        "2)  Visualize the function of popular ML algorithms    \n",
        "3)  Understand the Difference Between Classification and Regression   \n",
        "4)  Implement a range of ML solutions in few lines of code. These include:   \n",
        "- Regressors: SVRs, Decision Trees, MLP, Neural Networks\n",
        "\n"
      ]
    },
    {
      "cell_type": "markdown",
      "metadata": {
        "id": "cXYnBc0LXBts"
      },
      "source": [
        "<img src=\"https://media.istockphoto.com/vectors/machine-learning-3-step-infographic-artificial-intelligence-machine-vector-id962219860?k=6&m=962219860&s=612x612&w=0&h=yricYyUqZbILMHp3IvtenS3xbRDhu1w1u5kk2az5tbo=\" width=\"400\"/>  \n",
        "(Double click this block for image credit) \n",
        "\n"
      ]
    },
    {
      "cell_type": "markdown",
      "metadata": {
        "id": "V_kSOH4fXZP8"
      },
      "source": [
        "## Setting Up   \n",
        "\n"
      ]
    },
    {
      "cell_type": "code",
      "metadata": {
        "id": "Tlqz1fGKXiR7",
        "colab": {
          "base_uri": "https://localhost:8080/"
        },
        "outputId": "d5b946de-87fa-476e-8887-18eca41ee0b4"
      },
      "source": [
        "from google.colab import drive\n",
        "drive.mount('/content/drive')\n"
      ],
      "execution_count": null,
      "outputs": [
        {
          "output_type": "stream",
          "text": [
            "Mounted at /content/drive\n"
          ],
          "name": "stdout"
        }
      ]
    },
    {
      "cell_type": "markdown",
      "metadata": {
        "id": "OawKypeoNwLI"
      },
      "source": [
        "Now, make a shortcut in your drive to this folder: https://drive.google.com/drive/folders/1RkAS6NkX07pvSbqexR-Vv7woFjmSORlD?usp=sharing .\n",
        "This will allow us to access our data. Click on the folder name, then click add shortcut to drive."
      ]
    },
    {
      "cell_type": "markdown",
      "metadata": {
        "id": "ld1IvPMLQYDn"
      },
      "source": [
        "<img src=\"https://imgur.com/nvVNoHO.png\"/>"
      ]
    },
    {
      "cell_type": "markdown",
      "metadata": {
        "id": "g2s2A4WERSPP"
      },
      "source": [
        "Now we have a direct link to our drive so let's change directories to there."
      ]
    },
    {
      "cell_type": "code",
      "metadata": {
        "colab": {
          "base_uri": "https://localhost:8080/"
        },
        "id": "huheV8J1ALUT",
        "outputId": "4e2e47c5-bd75-429c-e721-2e9a61a69f2e"
      },
      "source": [
        "%cd 'drive/My Drive/Week 2: Intro to ML'\r\n"
      ],
      "execution_count": null,
      "outputs": [
        {
          "output_type": "stream",
          "text": [
            "[Errno 2] No such file or directory: 'drive/My Drive/Week 2: Intro to ML'\n",
            "/content\n"
          ],
          "name": "stdout"
        }
      ]
    },
    {
      "cell_type": "code",
      "metadata": {
        "id": "2jwnBZPcXfkF"
      },
      "source": [
        "import numpy as np\n",
        "import matplotlib.pyplot as plt\n",
        "import sklearn\n",
        "import pandas as pd\n",
        "\n",
        "#silencing warnings. because they don't really matter and are just ugly to look at\n",
        "try: \n",
        "    import warnings\n",
        "    warnings.filterwarnings('ignore')\n",
        "except:\n",
        "    pass"
      ],
      "execution_count": null,
      "outputs": []
    },
    {
      "cell_type": "markdown",
      "metadata": {
        "id": "19E5U1dsX15R"
      },
      "source": [
        "### There are 3 main ways to consider ML models. \n",
        "1) Pictorially  \n",
        "2) Using decision boundaries  \n",
        "3) Mathematically    \n",
        "Let's walk through each of them "
      ]
    },
    {
      "cell_type": "markdown",
      "metadata": {
        "id": "FOGOCQkxX6JU"
      },
      "source": [
        "## 1) Pictorially\n",
        "#### Optional Pre-test: Can you guess which picture corresponds to which algorithm?\n",
        "a) Neural Network b) Decision Tree c) Support Vector Machine (SVM)  \n",
        "\n",
        " \n",
        "<img src=\"https://raw.githubusercontent.com/hwhitt/DSGT-Workshop-Content/master/images/Screen%20Shot%202020-06-20%20at%204.47.51%20PM.png\"  height='200'>\n",
        "\n",
        "\n",
        "<!--  \n",
        "<img src=\"https://drive.google.com/uc?id=1OVtVVcwWkF0disA33iQE4MxwlaAvVnfu\"  height='200'> -->\n"
      ]
    },
    {
      "cell_type": "markdown",
      "metadata": {
        "id": "AbA73cg2ZGWa"
      },
      "source": [
        "## 2) Decision Boundaries  \n",
        "**Note: Don't worry about the code in this section! All will be explained later in the notebook. Focus on the visualizations**\n",
        "####  Now we can plot decision boundaries  \n",
        "Decision boundaries can intuitively be thought of how an ML model is making decisions.    \n",
        "These boundaries will determine which class a given instance belongs to.   \n",
        "We can see below how a decision boundary is differentiating between the two classes -- let's say Class Dog and Class Cat  \n",
        "\n",
        "\n",
        "<!-- <img src=\"https://drive.google.com/uc?id=1qmwspJdtAuU7c5rA3dtljXNm-Ni7-Jk2\"  height='200'> -->\n",
        "<img src=\"https://raw.githubusercontent.com/hwhitt/DSGT-Workshop-Content/master/images/Screen%20Shot%202020-06-20%20at%204.56.48%20PM.png\"  height='200'>\n",
        "\n",
        "\n",
        "Some models you can use are decision tree, a KNN, an SVM, and a simple neural network   \n",
        "These are all very popular algorithms in industry and in academia!"
      ]
    },
    {
      "cell_type": "markdown",
      "metadata": {
        "id": "4tBz3US2Zczt"
      },
      "source": [
        "### 3) Mathematic Formulations    \n",
        "Think: What is a model that is using features to predict a class doing?  \n",
        "You are taking in as INPUT the columns. You are getting as OUTPUT a classification   \n",
        "Thus, you are finding a MAPPING between the INPUT and the OUTPUT  \n",
        "\n",
        "f: X → Y   \n",
        "f(x) = y\n",
        "\n",
        " \n",
        "<img src=\"https://raw.githubusercontent.com/hwhitt/DSGT-Workshop-Content/master/images/Screen%20Shot%202020-05-16%20at%205.33.50%20PM.png\" height='300'>\n",
        "\n",
        "\n",
        "#### Let's focus on a regression model. Now we can look at the mathematical formula  \n",
        "Intuition : linear regression looks something like this: y=mx+b      \n",
        "    \n",
        "<img src=\"https://raw.githubusercontent.com/hwhitt/DSGT-Workshop-Content/master/images/Screen%20Shot%202020-06-20%20at%204.51.22%20PM.png\" height='300'>\n",
        "\n",
        "The goal of ML is to adjust the PARAMETERS to OPTIMIZE performance "
      ]
    },
    {
      "cell_type": "markdown",
      "metadata": {
        "id": "VGMOQJsQcPGj"
      },
      "source": [
        "**Question:** we can fit a linear regression model to our data.   \n",
        "If there is more than one feature, y= mx+b is not enough. We need a more complex formulation  \n",
        "What could a possible formulation be?"
      ]
    },
    {
      "cell_type": "markdown",
      "metadata": {
        "id": "KIxwBwuocuuF"
      },
      "source": [
        "## Classification vs Regression \n",
        "Can you state the difference between classification and regression?  \n",
        "Which has a discrete and which has a continuous output?\n",
        "\n",
        "\n",
        "<img src=\"https://raw.githubusercontent.com/hwhitt/DSGT-Workshop-Content/master/images/Screen%20Shot%202020-06-20%20at%204.48.26%20PM.png\" height='300'>\n"
      ]
    },
    {
      "cell_type": "markdown",
      "metadata": {
        "id": "noZi0TVjiLfs"
      },
      "source": [
        "## Now that we know... \n",
        "How to consider a model and can differentiate between different problem domains...  \n",
        "What types of models are even available? What do they do? How do they work? "
      ]
    },
    {
      "cell_type": "markdown",
      "metadata": {
        "id": "0t0Y9BWpfBys"
      },
      "source": [
        "## Implementation in Python   \n",
        "\n",
        " \n",
        "\n",
        "\n",
        "Sklearn is a python library that makes Machine Learning occur in very few lines of code  \n",
        "\n",
        "<img src=\"https://upload.wikimedia.org/wikipedia/commons/thumb/0/05/Scikit_learn_logo_small.svg/1200px-Scikit_learn_logo_small.svg.png\" height='100'>  \n",
        "  \n",
        "    \n",
        "      \n",
        "Using sklearn consists of very few steps   \n",
        "1) Run import statements   \n",
        "2) Instantiate your model   \n",
        "3) Fit your model to the data    \n",
        "4) Predict using your new model "
      ]
    },
    {
      "cell_type": "code",
      "metadata": {
        "id": "A7feOA-2Xfrt",
        "colab": {
          "base_uri": "https://localhost:8080/",
          "height": 218
        },
        "outputId": "9f14e2d6-9087-4e01-95ee-7e1ae7071755"
      },
      "source": [
        "# Load data\n",
        "df = pd.read_csv(\"cleanWIC.csv\")\n",
        "df = df.drop([\"Unnamed: 0\"],axis=1)\n",
        "df.head()"
      ],
      "execution_count": null,
      "outputs": [
        {
          "output_type": "error",
          "ename": "NameError",
          "evalue": "ignored",
          "traceback": [
            "\u001b[0;31m---------------------------------------------------------------------------\u001b[0m",
            "\u001b[0;31mNameError\u001b[0m                                 Traceback (most recent call last)",
            "\u001b[0;32m<ipython-input-6-dcf54383bd61>\u001b[0m in \u001b[0;36m<module>\u001b[0;34m()\u001b[0m\n\u001b[1;32m      1\u001b[0m \u001b[0;31m# Load data\u001b[0m\u001b[0;34m\u001b[0m\u001b[0;34m\u001b[0m\u001b[0;34m\u001b[0m\u001b[0m\n\u001b[0;32m----> 2\u001b[0;31m \u001b[0mdf\u001b[0m \u001b[0;34m=\u001b[0m \u001b[0mpd\u001b[0m\u001b[0;34m.\u001b[0m\u001b[0mread_csv\u001b[0m\u001b[0;34m(\u001b[0m\u001b[0;34m\"cleanWIC.csv\"\u001b[0m\u001b[0;34m)\u001b[0m\u001b[0;34m\u001b[0m\u001b[0;34m\u001b[0m\u001b[0m\n\u001b[0m\u001b[1;32m      3\u001b[0m \u001b[0mdf\u001b[0m \u001b[0;34m=\u001b[0m \u001b[0mdf\u001b[0m\u001b[0;34m.\u001b[0m\u001b[0mdrop\u001b[0m\u001b[0;34m(\u001b[0m\u001b[0;34m[\u001b[0m\u001b[0;34m\"Unnamed: 0\"\u001b[0m\u001b[0;34m]\u001b[0m\u001b[0;34m,\u001b[0m\u001b[0maxis\u001b[0m\u001b[0;34m=\u001b[0m\u001b[0;36m1\u001b[0m\u001b[0;34m)\u001b[0m\u001b[0;34m\u001b[0m\u001b[0;34m\u001b[0m\u001b[0m\n\u001b[1;32m      4\u001b[0m \u001b[0mdf\u001b[0m\u001b[0;34m.\u001b[0m\u001b[0mhead\u001b[0m\u001b[0;34m(\u001b[0m\u001b[0;34m)\u001b[0m\u001b[0;34m\u001b[0m\u001b[0;34m\u001b[0m\u001b[0m\n",
            "\u001b[0;31mNameError\u001b[0m: name 'pd' is not defined"
          ]
        }
      ]
    },
    {
      "cell_type": "code",
      "metadata": {
        "id": "eMRESI3QIRRy"
      },
      "source": [
        "#We are dropping the \"State Agency or Indian Tribal Organization\" column because it is not quantifiable data\r\n",
        "df = df.drop([\"State Agency or Indian Tribal Organization\"],axis=1) \r\n",
        "\r\n"
      ],
      "execution_count": null,
      "outputs": []
    },
    {
      "cell_type": "code",
      "metadata": {
        "colab": {
          "base_uri": "https://localhost:8080/",
          "height": 238
        },
        "id": "P15TnjMoIauV",
        "outputId": "bfd058ac-f5b8-4b06-c3a5-ea14a79977e1"
      },
      "source": [
        "df.head()"
      ],
      "execution_count": null,
      "outputs": [
        {
          "output_type": "execute_result",
          "data": {
            "text/html": [
              "<div>\n",
              "<style scoped>\n",
              "    .dataframe tbody tr th:only-of-type {\n",
              "        vertical-align: middle;\n",
              "    }\n",
              "\n",
              "    .dataframe tbody tr th {\n",
              "        vertical-align: top;\n",
              "    }\n",
              "\n",
              "    .dataframe thead th {\n",
              "        text-align: right;\n",
              "    }\n",
              "</style>\n",
              "<table border=\"1\" class=\"dataframe\">\n",
              "  <thead>\n",
              "    <tr style=\"text-align: right;\">\n",
              "      <th></th>\n",
              "      <th>Child Part</th>\n",
              "      <th>Avg Food Cost per Person</th>\n",
              "      <th>Cumulative Food Cost</th>\n",
              "      <th>Nutritional services admin annual cost</th>\n",
              "      <th>Infants Full Breastfed Part</th>\n",
              "      <th>Infants partially Breastfed Part</th>\n",
              "      <th>Part Infants Formula-fed</th>\n",
              "      <th>Total Infants Part</th>\n",
              "      <th>Pregnant Women Part</th>\n",
              "      <th>Tot Breastfeeding Women Part</th>\n",
              "      <th>Fully Breastfeeding Women Part</th>\n",
              "      <th>Partially Breastfeeding Women Part</th>\n",
              "      <th>Postpartum Women Part</th>\n",
              "      <th>Total Women Part</th>\n",
              "      <th>Cumulative Rebate Cost</th>\n",
              "    </tr>\n",
              "  </thead>\n",
              "  <tbody>\n",
              "    <tr>\n",
              "      <th>0</th>\n",
              "      <td>27134.750000</td>\n",
              "      <td>48.038410</td>\n",
              "      <td>29569803</td>\n",
              "      <td>14276042.0</td>\n",
              "      <td>963.000000</td>\n",
              "      <td>3319.833333</td>\n",
              "      <td>8670.000000</td>\n",
              "      <td>12952.833333</td>\n",
              "      <td>5308.083333</td>\n",
              "      <td>3040.333333</td>\n",
              "      <td>1010.916667</td>\n",
              "      <td>2029.416667</td>\n",
              "      <td>2859.416667</td>\n",
              "      <td>11207.833333</td>\n",
              "      <td>12980450</td>\n",
              "    </tr>\n",
              "    <tr>\n",
              "      <th>1</th>\n",
              "      <td>11832.500000</td>\n",
              "      <td>45.564752</td>\n",
              "      <td>11818312</td>\n",
              "      <td>5434603.0</td>\n",
              "      <td>899.166667</td>\n",
              "      <td>557.916667</td>\n",
              "      <td>3671.916667</td>\n",
              "      <td>5129.000000</td>\n",
              "      <td>1879.666667</td>\n",
              "      <td>1389.583333</td>\n",
              "      <td>878.583333</td>\n",
              "      <td>511.000000</td>\n",
              "      <td>1383.750000</td>\n",
              "      <td>4653.000000</td>\n",
              "      <td>3693845</td>\n",
              "    </tr>\n",
              "    <tr>\n",
              "      <th>2</th>\n",
              "      <td>61513.333333</td>\n",
              "      <td>38.251339</td>\n",
              "      <td>51989002</td>\n",
              "      <td>25419482.0</td>\n",
              "      <td>3084.833333</td>\n",
              "      <td>5536.916667</td>\n",
              "      <td>17252.916667</td>\n",
              "      <td>25874.666667</td>\n",
              "      <td>10469.333333</td>\n",
              "      <td>8566.416667</td>\n",
              "      <td>3059.833333</td>\n",
              "      <td>5506.583333</td>\n",
              "      <td>6838.083333</td>\n",
              "      <td>25873.833333</td>\n",
              "      <td>24782602</td>\n",
              "    </tr>\n",
              "    <tr>\n",
              "      <th>3</th>\n",
              "      <td>7728.333333</td>\n",
              "      <td>33.049673</td>\n",
              "      <td>5831747</td>\n",
              "      <td>4223646.0</td>\n",
              "      <td>647.000000</td>\n",
              "      <td>357.583333</td>\n",
              "      <td>2645.083333</td>\n",
              "      <td>3649.666667</td>\n",
              "      <td>1379.000000</td>\n",
              "      <td>915.500000</td>\n",
              "      <td>616.500000</td>\n",
              "      <td>299.000000</td>\n",
              "      <td>1032.000000</td>\n",
              "      <td>3326.500000</td>\n",
              "      <td>3348020</td>\n",
              "    </tr>\n",
              "    <tr>\n",
              "      <th>4</th>\n",
              "      <td>251166.666667</td>\n",
              "      <td>53.974967</td>\n",
              "      <td>305516933</td>\n",
              "      <td>127233664.0</td>\n",
              "      <td>9623.833333</td>\n",
              "      <td>35916.583333</td>\n",
              "      <td>62421.916667</td>\n",
              "      <td>107962.333333</td>\n",
              "      <td>42639.333333</td>\n",
              "      <td>46362.000000</td>\n",
              "      <td>10746.583333</td>\n",
              "      <td>35615.416667</td>\n",
              "      <td>23565.083333</td>\n",
              "      <td>112566.416667</td>\n",
              "      <td>103856271</td>\n",
              "    </tr>\n",
              "  </tbody>\n",
              "</table>\n",
              "</div>"
            ],
            "text/plain": [
              "      Child Part  ...  Cumulative Rebate Cost\n",
              "0   27134.750000  ...                12980450\n",
              "1   11832.500000  ...                 3693845\n",
              "2   61513.333333  ...                24782602\n",
              "3    7728.333333  ...                 3348020\n",
              "4  251166.666667  ...               103856271\n",
              "\n",
              "[5 rows x 15 columns]"
            ]
          },
          "metadata": {
            "tags": []
          },
          "execution_count": 6
        }
      ]
    },
    {
      "cell_type": "code",
      "metadata": {
        "id": "sJ7odFDMZRzf",
        "colab": {
          "base_uri": "https://localhost:8080/"
        },
        "outputId": "27fd0882-405d-4954-e90f-1dbe068e0654"
      },
      "source": [
        "from sklearn.model_selection import train_test_split\n",
        "from sklearn.linear_model import LinearRegression\n",
        "\n",
        "lr = LinearRegression()\n",
        "#define x and y set\n",
        "y = df['Avg Food Cost per Person'] \n",
        "x = df.drop(['Avg Food Cost per Person', 'State Agency or Indian Tribal Organization'],axis=1)\n",
        "\n",
        "x_train, x_test, y_train, y_test = train_test_split(x,y,test_size=0.2, random_state = 101) #1/5th of my data is going to the testing set\n",
        "\n",
        "lr.fit(x_train, y_train) #Make the line of best fit\n",
        "predictions = lr.predict(x_test) #What is my predicted values givin any input\n",
        "print(predictions) #print out what the model predicts\n"
      ],
      "execution_count": null,
      "outputs": [
        {
          "output_type": "stream",
          "text": [
            "[48.64528763 51.91808774 51.37290671 51.09153241 51.19104038 49.60242319\n",
            " 45.76577799 24.35604079 43.55113093 50.32684204 51.35475969 50.07382983\n",
            " 49.37230067 50.64659023 44.07269704 33.78342478 51.30582683 51.34460434\n",
            " 45.18260726]\n"
          ],
          "name": "stdout"
        }
      ]
    },
    {
      "cell_type": "code",
      "metadata": {
        "id": "pGTJBGuhc0p_",
        "colab": {
          "base_uri": "https://localhost:8080/",
          "height": 238
        },
        "outputId": "a4c0e478-dc7c-458f-dd8c-d628ae170d51"
      },
      "source": [
        "x.head()"
      ],
      "execution_count": null,
      "outputs": [
        {
          "output_type": "execute_result",
          "data": {
            "text/html": [
              "<div>\n",
              "<style scoped>\n",
              "    .dataframe tbody tr th:only-of-type {\n",
              "        vertical-align: middle;\n",
              "    }\n",
              "\n",
              "    .dataframe tbody tr th {\n",
              "        vertical-align: top;\n",
              "    }\n",
              "\n",
              "    .dataframe thead th {\n",
              "        text-align: right;\n",
              "    }\n",
              "</style>\n",
              "<table border=\"1\" class=\"dataframe\">\n",
              "  <thead>\n",
              "    <tr style=\"text-align: right;\">\n",
              "      <th></th>\n",
              "      <th>Child Part</th>\n",
              "      <th>Cumulative Food Cost</th>\n",
              "      <th>Nutritional services admin annual cost</th>\n",
              "      <th>Infants Full Breastfed Part</th>\n",
              "      <th>Infants partially Breastfed Part</th>\n",
              "      <th>Part Infants Formula-fed</th>\n",
              "      <th>Total Infants Part</th>\n",
              "      <th>Pregnant Women Part</th>\n",
              "      <th>Tot Breastfeeding Women Part</th>\n",
              "      <th>Fully Breastfeeding Women Part</th>\n",
              "      <th>Partially Breastfeeding Women Part</th>\n",
              "      <th>Postpartum Women Part</th>\n",
              "      <th>Total Women Part</th>\n",
              "      <th>Cumulative Rebate Cost</th>\n",
              "    </tr>\n",
              "  </thead>\n",
              "  <tbody>\n",
              "    <tr>\n",
              "      <th>0</th>\n",
              "      <td>27134.750000</td>\n",
              "      <td>29569803</td>\n",
              "      <td>14276042.0</td>\n",
              "      <td>963.000000</td>\n",
              "      <td>3319.833333</td>\n",
              "      <td>8670.000000</td>\n",
              "      <td>12952.833333</td>\n",
              "      <td>5308.083333</td>\n",
              "      <td>3040.333333</td>\n",
              "      <td>1010.916667</td>\n",
              "      <td>2029.416667</td>\n",
              "      <td>2859.416667</td>\n",
              "      <td>11207.833333</td>\n",
              "      <td>12980450</td>\n",
              "    </tr>\n",
              "    <tr>\n",
              "      <th>1</th>\n",
              "      <td>11832.500000</td>\n",
              "      <td>11818312</td>\n",
              "      <td>5434603.0</td>\n",
              "      <td>899.166667</td>\n",
              "      <td>557.916667</td>\n",
              "      <td>3671.916667</td>\n",
              "      <td>5129.000000</td>\n",
              "      <td>1879.666667</td>\n",
              "      <td>1389.583333</td>\n",
              "      <td>878.583333</td>\n",
              "      <td>511.000000</td>\n",
              "      <td>1383.750000</td>\n",
              "      <td>4653.000000</td>\n",
              "      <td>3693845</td>\n",
              "    </tr>\n",
              "    <tr>\n",
              "      <th>2</th>\n",
              "      <td>61513.333333</td>\n",
              "      <td>51989002</td>\n",
              "      <td>25419482.0</td>\n",
              "      <td>3084.833333</td>\n",
              "      <td>5536.916667</td>\n",
              "      <td>17252.916667</td>\n",
              "      <td>25874.666667</td>\n",
              "      <td>10469.333333</td>\n",
              "      <td>8566.416667</td>\n",
              "      <td>3059.833333</td>\n",
              "      <td>5506.583333</td>\n",
              "      <td>6838.083333</td>\n",
              "      <td>25873.833333</td>\n",
              "      <td>24782602</td>\n",
              "    </tr>\n",
              "    <tr>\n",
              "      <th>3</th>\n",
              "      <td>7728.333333</td>\n",
              "      <td>5831747</td>\n",
              "      <td>4223646.0</td>\n",
              "      <td>647.000000</td>\n",
              "      <td>357.583333</td>\n",
              "      <td>2645.083333</td>\n",
              "      <td>3649.666667</td>\n",
              "      <td>1379.000000</td>\n",
              "      <td>915.500000</td>\n",
              "      <td>616.500000</td>\n",
              "      <td>299.000000</td>\n",
              "      <td>1032.000000</td>\n",
              "      <td>3326.500000</td>\n",
              "      <td>3348020</td>\n",
              "    </tr>\n",
              "    <tr>\n",
              "      <th>4</th>\n",
              "      <td>251166.666667</td>\n",
              "      <td>305516933</td>\n",
              "      <td>127233664.0</td>\n",
              "      <td>9623.833333</td>\n",
              "      <td>35916.583333</td>\n",
              "      <td>62421.916667</td>\n",
              "      <td>107962.333333</td>\n",
              "      <td>42639.333333</td>\n",
              "      <td>46362.000000</td>\n",
              "      <td>10746.583333</td>\n",
              "      <td>35615.416667</td>\n",
              "      <td>23565.083333</td>\n",
              "      <td>112566.416667</td>\n",
              "      <td>103856271</td>\n",
              "    </tr>\n",
              "  </tbody>\n",
              "</table>\n",
              "</div>"
            ],
            "text/plain": [
              "      Child Part  ...  Cumulative Rebate Cost\n",
              "0   27134.750000  ...                12980450\n",
              "1   11832.500000  ...                 3693845\n",
              "2   61513.333333  ...                24782602\n",
              "3    7728.333333  ...                 3348020\n",
              "4  251166.666667  ...               103856271\n",
              "\n",
              "[5 rows x 14 columns]"
            ]
          },
          "metadata": {
            "tags": []
          },
          "execution_count": 8
        }
      ]
    },
    {
      "cell_type": "code",
      "metadata": {
        "id": "ZK85OWnec41z",
        "colab": {
          "base_uri": "https://localhost:8080/"
        },
        "outputId": "6caba404-bf32-4809-90df-66385e3758d8"
      },
      "source": [
        "y.head()"
      ],
      "execution_count": null,
      "outputs": [
        {
          "output_type": "execute_result",
          "data": {
            "text/plain": [
              "0    48.038410\n",
              "1    45.564752\n",
              "2    38.251339\n",
              "3    33.049673\n",
              "4    53.974967\n",
              "Name: Avg Food Cost per Person, dtype: float64"
            ]
          },
          "metadata": {
            "tags": []
          },
          "execution_count": 64
        }
      ]
    },
    {
      "cell_type": "markdown",
      "metadata": {
        "id": "5nfucTkhiodk"
      },
      "source": [
        "## SVRs \n",
        "<img src=\"https://raw.githubusercontent.com/hwhitt/DSGT-Workshop-Content/master/images/Screen%20Shot%202020-06-20%20at%205.06.41%20PM.png\" height='200'>\n",
        "\n",
        "\n",
        "SVMs function by finding a **hyperplane** that most optimally seperates between classes. Think of a hyperplane as a line: in the 2-D space below, the decision boundary is a line. In 3-D space, the decision boundary is a plane. In 50-D, we get a hyperplane!  \n",
        "\n",
        "The machine learning aspect attempts to find the **maximal margin** between classes (best seperability). \n",
        "\n",
        "This approach is by default **linear** (think straight line). However, you can use **kernels** to introduce nonlinearity. Google to find out more!"
      ]
    },
    {
      "cell_type": "code",
      "metadata": {
        "id": "5Qw49pKdg_1Z",
        "colab": {
          "base_uri": "https://localhost:8080/"
        },
        "outputId": "0a124ecd-29a6-40c8-f281-bd3466db337a"
      },
      "source": [
        "# SVR\n",
        "from sklearn.svm import SVR\n",
        "#from sklearn.neural_network import MLPClassifier\n",
        "\n",
        "\n",
        "SVR = SVR()\n",
        "SVR.fit(x_train, y_train)\n",
        "print(SVR.predict(x_test)) #print prediction\n",
        "print(y_test)\n"
      ],
      "execution_count": null,
      "outputs": [
        {
          "output_type": "stream",
          "text": [
            "[46.70437256 46.50654288 46.77817548 46.78193867 46.74251429 46.58559595\n",
            " 44.75269361 45.00296069 45.23972836 45.99649063 46.77516701 46.63213451\n",
            " 46.50901    46.3346343  44.86143524 44.60647146 46.79085155 44.78431352\n",
            " 44.90659131]\n",
            "50    37.734385\n",
            "6     53.064630\n",
            "51    56.019696\n",
            "54    40.770157\n",
            "53    46.259519\n",
            "88    38.532716\n",
            "32    44.073938\n",
            "31    38.621994\n",
            "21    40.029592\n",
            "82    51.382623\n",
            "43    47.564078\n",
            "47    40.431681\n",
            "3     33.049673\n",
            "1     45.564752\n",
            "86    43.258107\n",
            "16    30.678377\n",
            "45    96.292975\n",
            "25    45.941251\n",
            "2     38.251339\n",
            "Name: Avg Food Cost per Person, dtype: float64\n"
          ],
          "name": "stdout"
        }
      ]
    },
    {
      "cell_type": "markdown",
      "metadata": {
        "id": "cAAj8QsYisi0"
      },
      "source": [
        "## Simple Neural Networks: Multi-layer Perceptron\n",
        "\n",
        "<img src=\"https://raw.githubusercontent.com/hwhitt/DSGT-Workshop-Content/master/images/Screen%20Shot%202020-06-20%20at%205.07.28%20PM.png\" height='200'>\n",
        "\n",
        "Artificial neural networks are just interconnected networks composed of **layers** of computational units called **perceptrons/neurons**.    \n",
        "Information ingested by the model is passed from layer to layer in **forward propagation**, with connections between nodes being weighted by importance.  \n",
        "Neurons compute on the input, ingesting one or more connections and applying an **activation function**.    \n",
        "The machine learning aspect attempts to find the optimal **weights and biases**. \n"
      ]
    },
    {
      "cell_type": "code",
      "metadata": {
        "id": "WXx_ASn4hxwK",
        "colab": {
          "base_uri": "https://localhost:8080/"
        },
        "outputId": "c667766c-94b7-4c7a-d41a-bebb7bfeebd0"
      },
      "source": [
        "# Neural Net\n",
        "\n",
        "from sklearn.neural_network import MLPRegressor\n",
        "\n",
        "mlp_regr = MLPRegressor(random_state=1, max_iter=100000)\n",
        "mlp_regr.fit(x_train, y_train)\n",
        "mlp_regr.predict(x_test)\n",
        "print(mlp_regr.predict(x_test))\n",
        "print(y_test)\n"
      ],
      "execution_count": null,
      "outputs": [
        {
          "output_type": "stream",
          "text": [
            "[  54627.26554058   29176.7808537    -1761.08830195    4387.60739074\n",
            "  -13143.92746038    3096.16660342    3087.88447877   86154.4302764\n",
            "   59017.70744002  -45704.61596815   -3075.76023818    5120.28971961\n",
            "   11624.66695031   -8740.39352777 -153825.67104884  138784.40090359\n",
            "   -3492.91497309  -28316.56108288    6362.7300935 ]\n",
            "50    37.734385\n",
            "6     53.064630\n",
            "51    56.019696\n",
            "54    40.770157\n",
            "53    46.259519\n",
            "88    38.532716\n",
            "32    44.073938\n",
            "31    38.621994\n",
            "21    40.029592\n",
            "82    51.382623\n",
            "43    47.564078\n",
            "47    40.431681\n",
            "3     33.049673\n",
            "1     45.564752\n",
            "86    43.258107\n",
            "16    30.678377\n",
            "45    96.292975\n",
            "25    45.941251\n",
            "2     38.251339\n",
            "Name: Avg Food Cost per Person, dtype: float64\n"
          ],
          "name": "stdout"
        }
      ]
    },
    {
      "cell_type": "markdown",
      "metadata": {
        "id": "Me_OIbjtixP9"
      },
      "source": [
        "## Decision Tree  \n",
        "\n",
        "<img src=\"https://raw.githubusercontent.com/hwhitt/DSGT-Workshop-Content/master/images/Screen%20Shot%202020-06-20%20at%205.07.15%20PM.png\" height='200'>\n",
        "\n",
        "Decision trees make classifications via a series of binary decisions. Think of the game 20 Questions.   \n",
        "The data comes in at the **root node**, and is split up by a series of conditions. Ex. # bathrooms >2 or <=2.  \n",
        "Several **branches** end in **leaf nodes** which gives a classiciation.  \n",
        "The machine learning piece comes from determining the optimal conditions when forming branchs, as determined by the **information gain** criteria. "
      ]
    },
    {
      "cell_type": "markdown",
      "metadata": {
        "id": "9RWVJLX17xyx"
      },
      "source": [
        "**EXERCISE**"
      ]
    },
    {
      "cell_type": "code",
      "metadata": {
        "id": "LI4eYqpKh5kv",
        "colab": {
          "base_uri": "https://localhost:8080/"
        },
        "outputId": "efcefe95-3b58-41bb-f051-38e9a7d2eedc"
      },
      "source": [
        "from sklearn.tree import DecisionTreeRegressor\n",
        " \n",
        "#Build the decision tree model with a random state parameter of your choice! Feel free to add other parameters as well"
      ],
      "execution_count": null,
      "outputs": [
        {
          "output_type": "stream",
          "text": [
            "[36.86268649 48.03840986 43.25810691 40.54607303 43.80984035 42.17473393\n",
            " 41.64099943 38.21534608 43.80984035 42.8469092  40.54607303 45.93168128\n",
            " 43.25810691 42.34118584 46.7116694  33.23413503 37.10172255 46.7116694\n",
            " 33.23413503]\n"
          ],
          "name": "stdout"
        }
      ]
    },
    {
      "cell_type": "markdown",
      "metadata": {
        "id": "jd-_J2IJUZ7W"
      },
      "source": [
        "<details>\n",
        "<summary>\n",
        "<b>When you think you have a solution, click me!</b>\n",
        "</summary>\n",
        "\n",
        "`dt = DecisionTreeRegressor(random_state=0)`\n",
        "\n",
        "`dt.fit(X_train, Y_train)`\n",
        "\n",
        "`print(dt.predict(X_test))`\n",
        "\n",
        "\n",
        "</details>\n",
        "\n",
        "\n"
      ]
    },
    {
      "cell_type": "markdown",
      "metadata": {
        "id": "PZT1sHloXAue"
      },
      "source": [
        "#### We just fit the models to ALL Features! How can we reduce the dimensionality? "
      ]
    },
    {
      "cell_type": "code",
      "metadata": {
        "id": "9La5BSbrXCai"
      },
      "source": [
        "x = df[['Nutritional services admin annual cost', 'Part Infants Formula-fed', 'Pregnant Women Part', 'Tot Breastfeeding Women Part', 'Tot Breastfeeding Women Part']] #features\n",
        "y = df['Avg Food Cost per Person'] # target\n",
        "X_train, X_test, Y_train, Y_test = train_test_split(x, y, test_size = 0.33, random_state = 5) # we do this to prevent overfitting, because some features maybe irrelevant to what you are trying to find"
      ],
      "execution_count": null,
      "outputs": []
    },
    {
      "cell_type": "markdown",
      "metadata": {
        "id": "RyRYaZkaVDyF"
      },
      "source": [
        "For the following models, fit them and get the predictions"
      ]
    },
    {
      "cell_type": "markdown",
      "metadata": {
        "id": "8cVbZNZJ72A5"
      },
      "source": [
        "**EXERCISE**"
      ]
    },
    {
      "cell_type": "code",
      "metadata": {
        "id": "jSJVb_A-6Hiy"
      },
      "source": [
        "#Fit the Linear Regressor, SVR, MLPRegressor and DecisionTreeRegressor with the new set of features!"
      ],
      "execution_count": null,
      "outputs": []
    },
    {
      "cell_type": "markdown",
      "metadata": {
        "id": "9GIpAFSrVNW6"
      },
      "source": [
        "<details>\n",
        "<summary>\n",
        "<b>When you think you have the solution, click me!</b>\n",
        "</summary>\n",
        "`lr = LinearRegressor()`\n",
        "\n",
        "`lr.fit(X_train, Y_train)`\n",
        "`print(\"Linear Regression Predictions:\", knn.predict(X_test))`\n",
        "\n",
        "`SVR = SVR()`\n",
        "`SVR.fit(X_train, Y_train)`\n",
        "`print(\"SVR Predictions:\", SVR.predict(X_test))`\n",
        "\n",
        "`dt = DecisionTreeRegressor()`\n",
        "`dt.fit(X_train, Y_train)`\n",
        "`# print(dt.predict(X_test))`\n",
        "`print(\"DT Predictions:\", dt.predict(X_test))`\n",
        "\n",
        "`nn = MLPRegressor()`\n",
        "`nn.fit(X_train, Y_train)`\n",
        "`# print(nn.predict(X_test))`\n",
        "`print(\"NN Predictions:\", nn.predict(X_test))`\n",
        "</details>"
      ]
    },
    {
      "cell_type": "markdown",
      "metadata": {
        "id": "2PFEU7q2lQ-P"
      },
      "source": [
        ""
      ]
    },
    {
      "cell_type": "markdown",
      "metadata": {
        "id": "1fFK_1o2jQKy"
      },
      "source": [
        "# Conclusion   \n",
        "In this notebook we learned:   \n",
        "1)  Learn Four Ways to Conceptualize Models and Data  \n",
        "2)  Visualize the function of popular ML algorithms    \n",
        "3)  Understand the Difference Between Classification and Regression <br>\n",
        "4)  How to use Sklearn to code machine learning in few lines of code\n",
        "  - Linear Regressor, SVRs, and Neural Nets, Decision Trees\n"
      ]
    }
  ]
}